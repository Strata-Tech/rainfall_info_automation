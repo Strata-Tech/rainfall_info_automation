{
  "nbformat": 4,
  "nbformat_minor": 0,
  "metadata": {
    "colab": {
      "name": "Rainfall.ipynb",
      "provenance": [],
      "authorship_tag": "ABX9TyNsieKic677rShoC5G6mJQY",
      "include_colab_link": true
    },
    "kernelspec": {
      "name": "python3",
      "display_name": "Python 3"
    },
    "language_info": {
      "name": "python"
    }
  },
  "cells": [
    {
      "cell_type": "markdown",
      "metadata": {
        "id": "view-in-github",
        "colab_type": "text"
      },
      "source": [
        "<a href=\"https://colab.research.google.com/github/Strata-Tech/rainfall_info_automation/blob/main/Rainfall.ipynb\" target=\"_parent\"><img src=\"https://colab.research.google.com/assets/colab-badge.svg\" alt=\"Open In Colab\"/></a>"
      ]
    },
    {
      "cell_type": "code",
      "metadata": {
        "id": "RSZZ_REHHxtm"
      },
      "source": [
        "import requests"
      ],
      "execution_count": 18,
      "outputs": []
    },
    {
      "cell_type": "code",
      "metadata": {
        "id": "wF-Cnm-QH2Uk"
      },
      "source": [
        "#  NEA API provides update 5 minutes readings of rainfall across various locations\n",
        "# Alternatively you can also search by a particular date to know the rainfall at a particular location\n",
        "# In this instance we will be looking at rainfall across the island in real timw\n",
        "response = requests.get('https://api.data.gov.sg/v1/environment/rainfall')\n"
      ],
      "execution_count": 27,
      "outputs": []
    },
    {
      "cell_type": "code",
      "metadata": {
        "colab": {
          "base_uri": "https://localhost:8080/"
        },
        "id": "os3yZpfmH2R9",
        "outputId": "5392ce94-94e7-4d4a-a97c-aedcbf3c08ea"
      },
      "source": [
        "rain_info=(response.json())\n",
        "rain_info"
      ],
      "execution_count": 29,
      "outputs": [
        {
          "output_type": "execute_result",
          "data": {
            "text/plain": [
              "{'api_info': {'status': 'healthy'},\n",
              " 'items': [{'readings': [{'station_id': 'S77', 'value': 0},\n",
              "    {'station_id': 'S109', 'value': 0},\n",
              "    {'station_id': 'S90', 'value': 0},\n",
              "    {'station_id': 'S114', 'value': 0},\n",
              "    {'station_id': 'S11', 'value': 0},\n",
              "    {'station_id': 'S50', 'value': 0},\n",
              "    {'station_id': 'S107', 'value': 0},\n",
              "    {'station_id': 'S215', 'value': 0},\n",
              "    {'station_id': 'S118', 'value': 0},\n",
              "    {'station_id': 'S120', 'value': 0},\n",
              "    {'station_id': 'S33', 'value': 0},\n",
              "    {'station_id': 'S71', 'value': 0},\n",
              "    {'station_id': 'S43', 'value': 0},\n",
              "    {'station_id': 'S66', 'value': 0},\n",
              "    {'station_id': 'S112', 'value': 0},\n",
              "    {'station_id': 'S40', 'value': 0},\n",
              "    {'station_id': 'S108', 'value': 0},\n",
              "    {'station_id': 'S113', 'value': 0},\n",
              "    {'station_id': 'S44', 'value': 0},\n",
              "    {'station_id': 'S119', 'value': 0},\n",
              "    {'station_id': 'S121', 'value': 0},\n",
              "    {'station_id': 'S35', 'value': 0},\n",
              "    {'station_id': 'S94', 'value': 0},\n",
              "    {'station_id': 'S78', 'value': 0},\n",
              "    {'station_id': 'S106', 'value': 0},\n",
              "    {'station_id': 'S81', 'value': 0},\n",
              "    {'station_id': 'S201', 'value': 0},\n",
              "    {'station_id': 'S202', 'value': 0},\n",
              "    {'station_id': 'S203', 'value': 0},\n",
              "    {'station_id': 'S204', 'value': 0},\n",
              "    {'station_id': 'S205', 'value': 0},\n",
              "    {'station_id': 'S207', 'value': 0},\n",
              "    {'station_id': 'S208', 'value': 0},\n",
              "    {'station_id': 'S209', 'value': 0},\n",
              "    {'station_id': 'S210', 'value': 0},\n",
              "    {'station_id': 'S211', 'value': 0},\n",
              "    {'station_id': 'S212', 'value': 0},\n",
              "    {'station_id': 'S213', 'value': 0},\n",
              "    {'station_id': 'S214', 'value': 0},\n",
              "    {'station_id': 'S216', 'value': 0},\n",
              "    {'station_id': 'S217', 'value': 0},\n",
              "    {'station_id': 'S218', 'value': 0},\n",
              "    {'station_id': 'S219', 'value': 0},\n",
              "    {'station_id': 'S220', 'value': 0},\n",
              "    {'station_id': 'S221', 'value': 0},\n",
              "    {'station_id': 'S222', 'value': 0},\n",
              "    {'station_id': 'S223', 'value': 0},\n",
              "    {'station_id': 'S224', 'value': 0},\n",
              "    {'station_id': 'S226', 'value': 0},\n",
              "    {'station_id': 'S227', 'value': 0},\n",
              "    {'station_id': 'S228', 'value': 0},\n",
              "    {'station_id': 'S229', 'value': 0},\n",
              "    {'station_id': 'S230', 'value': 0},\n",
              "    {'station_id': 'S900', 'value': 0},\n",
              "    {'station_id': 'S122', 'value': 0},\n",
              "    {'station_id': 'S84', 'value': 0},\n",
              "    {'station_id': 'S79', 'value': 0},\n",
              "    {'station_id': 'S88', 'value': 0},\n",
              "    {'station_id': 'S123', 'value': 0},\n",
              "    {'station_id': 'S89', 'value': 0},\n",
              "    {'station_id': 'S115', 'value': 0},\n",
              "    {'station_id': 'S82', 'value': 0},\n",
              "    {'station_id': 'S24', 'value': 0},\n",
              "    {'station_id': 'S69', 'value': 0},\n",
              "    {'station_id': 'S08', 'value': 0},\n",
              "    {'station_id': 'S116', 'value': 0},\n",
              "    {'station_id': 'S104', 'value': 0},\n",
              "    {'station_id': 'S100', 'value': 0}],\n",
              "   'timestamp': '2021-07-19T08:45:00+08:00'}],\n",
              " 'metadata': {'reading_type': 'TB1 Rainfall 5 Minute Total F',\n",
              "  'reading_unit': 'mm',\n",
              "  'stations': [{'device_id': 'S77',\n",
              "    'id': 'S77',\n",
              "    'location': {'latitude': 1.2937, 'longitude': 103.8125},\n",
              "    'name': 'Alexandra Road'},\n",
              "   {'device_id': 'S109',\n",
              "    'id': 'S109',\n",
              "    'location': {'latitude': 1.3764, 'longitude': 103.8492},\n",
              "    'name': 'Ang Mo Kio Avenue 5'},\n",
              "   {'device_id': 'S90',\n",
              "    'id': 'S90',\n",
              "    'location': {'latitude': 1.3191, 'longitude': 103.8191},\n",
              "    'name': 'Bukit Timah Road'},\n",
              "   {'device_id': 'S114',\n",
              "    'id': 'S114',\n",
              "    'location': {'latitude': 1.38, 'longitude': 103.73},\n",
              "    'name': 'Choa Chu Kang Avenue 4'},\n",
              "   {'device_id': 'S11',\n",
              "    'id': 'S11',\n",
              "    'location': {'latitude': 1.3746, 'longitude': 103.6938},\n",
              "    'name': 'Choa Chu Kang Road'},\n",
              "   {'device_id': 'S50',\n",
              "    'id': 'S50',\n",
              "    'location': {'latitude': 1.3337, 'longitude': 103.7768},\n",
              "    'name': 'Clementi Road'},\n",
              "   {'device_id': 'S107',\n",
              "    'id': 'S107',\n",
              "    'location': {'latitude': 1.3135, 'longitude': 103.9625},\n",
              "    'name': 'East Coast Parkway'},\n",
              "   {'device_id': 'S215',\n",
              "    'id': 'S215',\n",
              "    'location': {'latitude': 1.32785, 'longitude': 103.88899},\n",
              "    'name': 'GEYLANG EAST CENTRAL'},\n",
              "   {'device_id': 'S118',\n",
              "    'id': 'S118',\n",
              "    'location': {'latitude': 1.2994, 'longitude': 103.8461},\n",
              "    'name': 'Handy Road'},\n",
              "   {'device_id': 'S120',\n",
              "    'id': 'S120',\n",
              "    'location': {'latitude': 1.30874, 'longitude': 103.818},\n",
              "    'name': 'Holland Road'},\n",
              "   {'device_id': 'S33',\n",
              "    'id': 'S33',\n",
              "    'location': {'latitude': 1.3081, 'longitude': 103.71},\n",
              "    'name': 'Jurong Pier Road'},\n",
              "   {'device_id': 'S71',\n",
              "    'id': 'S71',\n",
              "    'location': {'latitude': 1.2923, 'longitude': 103.7815},\n",
              "    'name': 'Kent Ridge Road'},\n",
              "   {'device_id': 'S43',\n",
              "    'id': 'S43',\n",
              "    'location': {'latitude': 1.3399, 'longitude': 103.8878},\n",
              "    'name': 'Kim Chuan Road'},\n",
              "   {'device_id': 'S66',\n",
              "    'id': 'S66',\n",
              "    'location': {'latitude': 1.4387, 'longitude': 103.7363},\n",
              "    'name': 'Kranji Way'},\n",
              "   {'device_id': 'S112',\n",
              "    'id': 'S112',\n",
              "    'location': {'latitude': 1.43854, 'longitude': 103.70131},\n",
              "    'name': 'Lim Chu Kang Road'},\n",
              "   {'device_id': 'S40',\n",
              "    'id': 'S40',\n",
              "    'location': {'latitude': 1.4044, 'longitude': 103.78962},\n",
              "    'name': 'Mandai Lake Road'},\n",
              "   {'device_id': 'S108',\n",
              "    'id': 'S108',\n",
              "    'location': {'latitude': 1.2799, 'longitude': 103.8703},\n",
              "    'name': 'Marina Gardens Drive'},\n",
              "   {'device_id': 'S113',\n",
              "    'id': 'S113',\n",
              "    'location': {'latitude': 1.30648, 'longitude': 103.9104},\n",
              "    'name': 'Marine Parade Road'},\n",
              "   {'device_id': 'S44',\n",
              "    'id': 'S44',\n",
              "    'location': {'latitude': 1.34583, 'longitude': 103.68166},\n",
              "    'name': 'Nanyang Avenue'},\n",
              "   {'device_id': 'S119',\n",
              "    'id': 'S119',\n",
              "    'location': {'latitude': 1.30105, 'longitude': 103.8666},\n",
              "    'name': 'Nicoll Highway'},\n",
              "   {'device_id': 'S121',\n",
              "    'id': 'S121',\n",
              "    'location': {'latitude': 1.37288, 'longitude': 103.72244},\n",
              "    'name': 'Old Choa Chu Kang Road'},\n",
              "   {'device_id': 'S35',\n",
              "    'id': 'S35',\n",
              "    'location': {'latitude': 1.3329, 'longitude': 103.7556},\n",
              "    'name': 'Old Toh Tuck Road'},\n",
              "   {'device_id': 'S94',\n",
              "    'id': 'S94',\n",
              "    'location': {'latitude': 1.3662, 'longitude': 103.9528},\n",
              "    'name': 'Pasir Ris Street 51'},\n",
              "   {'device_id': 'S78',\n",
              "    'id': 'S78',\n",
              "    'location': {'latitude': 1.30703, 'longitude': 103.89067},\n",
              "    'name': 'Poole Road'},\n",
              "   {'device_id': 'S106',\n",
              "    'id': 'S106',\n",
              "    'location': {'latitude': 1.4168, 'longitude': 103.9673},\n",
              "    'name': 'Pulau Ubin'},\n",
              "   {'device_id': 'S81',\n",
              "    'id': 'S81',\n",
              "    'location': {'latitude': 1.4029, 'longitude': 103.9092},\n",
              "    'name': 'Punggol Central'},\n",
              "   {'device_id': 'S201',\n",
              "    'id': 'S201',\n",
              "    'location': {'latitude': 1.32311, 'longitude': 103.76714},\n",
              "    'name': 'S201'},\n",
              "   {'device_id': 'S202',\n",
              "    'id': 'S202',\n",
              "    'location': {'latitude': 1.30968, 'longitude': 103.7578},\n",
              "    'name': 'S202'},\n",
              "   {'device_id': 'S203',\n",
              "    'id': 'S203',\n",
              "    'location': {'latitude': 1.29164, 'longitude': 103.7702},\n",
              "    'name': 'S203'},\n",
              "   {'device_id': 'S204',\n",
              "    'id': 'S204',\n",
              "    'location': {'latitude': 1.40081, 'longitude': 103.88217},\n",
              "    'name': 'S204'},\n",
              "   {'device_id': 'S205',\n",
              "    'id': 'S205',\n",
              "    'location': {'latitude': 1.38829, 'longitude': 103.9116},\n",
              "    'name': 'S205'},\n",
              "   {'device_id': 'S207',\n",
              "    'id': 'S207',\n",
              "    'location': {'latitude': 1.32485, 'longitude': 103.95836},\n",
              "    'name': 'S207'},\n",
              "   {'device_id': 'S208',\n",
              "    'id': 'S208',\n",
              "    'location': {'latitude': 1.3136, 'longitude': 104.00317},\n",
              "    'name': 'S208'},\n",
              "   {'device_id': 'S209',\n",
              "    'id': 'S209',\n",
              "    'location': {'latitude': 1.42111, 'longitude': 103.84472},\n",
              "    'name': 'S209'},\n",
              "   {'device_id': 'S210',\n",
              "    'id': 'S210',\n",
              "    'location': {'latitude': 1.44003, 'longitude': 103.76904},\n",
              "    'name': 'S210'},\n",
              "   {'device_id': 'S211',\n",
              "    'id': 'S211',\n",
              "    'location': {'latitude': 1.42918, 'longitude': 103.75711},\n",
              "    'name': 'S211'},\n",
              "   {'device_id': 'S212',\n",
              "    'id': 'S212',\n",
              "    'location': {'latitude': 1.31835, 'longitude': 103.93574},\n",
              "    'name': 'S212'},\n",
              "   {'device_id': 'S213',\n",
              "    'id': 'S213',\n",
              "    'location': {'latitude': 1.32427, 'longitude': 103.8097},\n",
              "    'name': 'S213'},\n",
              "   {'device_id': 'S214',\n",
              "    'id': 'S214',\n",
              "    'location': {'latitude': 1.29911, 'longitude': 103.88289},\n",
              "    'name': 'S214'},\n",
              "   {'device_id': 'S216',\n",
              "    'id': 'S216',\n",
              "    'location': {'latitude': 1.36019, 'longitude': 103.85335},\n",
              "    'name': 'S216'},\n",
              "   {'device_id': 'S217',\n",
              "    'id': 'S217',\n",
              "    'location': {'latitude': 1.35041, 'longitude': 103.85526},\n",
              "    'name': 'S217'},\n",
              "   {'device_id': 'S218',\n",
              "    'id': 'S218',\n",
              "    'location': {'latitude': 1.36491, 'longitude': 103.75065},\n",
              "    'name': 'S218'},\n",
              "   {'device_id': 'S219',\n",
              "    'id': 'S219',\n",
              "    'location': {'latitude': 1.37999, 'longitude': 103.87643},\n",
              "    'name': 'S219'},\n",
              "   {'device_id': 'S220',\n",
              "    'id': 'S220',\n",
              "    'location': {'latitude': 1.38666, 'longitude': 103.89797},\n",
              "    'name': 'S220'},\n",
              "   {'device_id': 'S221',\n",
              "    'id': 'S221',\n",
              "    'location': {'latitude': 1.35691, 'longitude': 103.89088},\n",
              "    'name': 'S221'},\n",
              "   {'device_id': 'S222',\n",
              "    'id': 'S222',\n",
              "    'location': {'latitude': 1.28987, 'longitude': 103.82364},\n",
              "    'name': 'S222'},\n",
              "   {'device_id': 'S223',\n",
              "    'id': 'S223',\n",
              "    'location': {'latitude': 1.29984, 'longitude': 103.80264},\n",
              "    'name': 'S223'},\n",
              "   {'device_id': 'S224',\n",
              "    'id': 'S224',\n",
              "    'location': {'latitude': 1.34392, 'longitude': 103.98409},\n",
              "    'name': 'S224'},\n",
              "   {'device_id': 'S226',\n",
              "    'id': 'S226',\n",
              "    'location': {'latitude': 1.27472, 'longitude': 103.80389},\n",
              "    'name': 'S226'},\n",
              "   {'device_id': 'S227',\n",
              "    'id': 'S227',\n",
              "    'location': {'latitude': 1.43944, 'longitude': 103.80389},\n",
              "    'name': 'S227'},\n",
              "   {'device_id': 'S228',\n",
              "    'id': 'S228',\n",
              "    'location': {'latitude': 1.34703, 'longitude': 103.70073},\n",
              "    'name': 'S228'},\n",
              "   {'device_id': 'S229',\n",
              "    'id': 'S229',\n",
              "    'location': {'latitude': 1.35167, 'longitude': 103.72195},\n",
              "    'name': 'S229'},\n",
              "   {'device_id': 'S230',\n",
              "    'id': 'S230',\n",
              "    'location': {'latitude': 1.30167, 'longitude': 103.76444},\n",
              "    'name': 'S230'},\n",
              "   {'device_id': 'S900',\n",
              "    'id': 'S900',\n",
              "    'location': {'latitude': 1.41284, 'longitude': 103.86922},\n",
              "    'name': 'Seletar Aerospace View'},\n",
              "   {'device_id': 'S122',\n",
              "    'id': 'S122',\n",
              "    'location': {'latitude': 1.41731, 'longitude': 103.8249},\n",
              "    'name': 'Sembawang Road'},\n",
              "   {'device_id': 'S84',\n",
              "    'id': 'S84',\n",
              "    'location': {'latitude': 1.3437, 'longitude': 103.9444},\n",
              "    'name': 'Simei Avenue'},\n",
              "   {'device_id': 'S79',\n",
              "    'id': 'S79',\n",
              "    'location': {'latitude': 1.3004, 'longitude': 103.8372},\n",
              "    'name': 'Somerset Road'},\n",
              "   {'device_id': 'S88',\n",
              "    'id': 'S88',\n",
              "    'location': {'latitude': 1.3427, 'longitude': 103.8482},\n",
              "    'name': 'Toa Payoh North'},\n",
              "   {'device_id': 'S123',\n",
              "    'id': 'S123',\n",
              "    'location': {'latitude': 1.3214, 'longitude': 103.8577},\n",
              "    'name': 'Towner Road'},\n",
              "   {'device_id': 'S89',\n",
              "    'id': 'S89',\n",
              "    'location': {'latitude': 1.31985, 'longitude': 103.66162},\n",
              "    'name': 'Tuas Road'},\n",
              "   {'device_id': 'S115',\n",
              "    'id': 'S115',\n",
              "    'location': {'latitude': 1.29377, 'longitude': 103.61843},\n",
              "    'name': 'Tuas South Avenue 3'},\n",
              "   {'device_id': 'S82',\n",
              "    'id': 'S82',\n",
              "    'location': {'latitude': 1.3247, 'longitude': 103.6351},\n",
              "    'name': 'Tuas West Road'},\n",
              "   {'device_id': 'S24',\n",
              "    'id': 'S24',\n",
              "    'location': {'latitude': 1.3678, 'longitude': 103.9826},\n",
              "    'name': 'Upper Changi Road North'},\n",
              "   {'device_id': 'S69',\n",
              "    'id': 'S69',\n",
              "    'location': {'latitude': 1.37, 'longitude': 103.805},\n",
              "    'name': 'Upper Peirce Reservoir Park'},\n",
              "   {'device_id': 'S08',\n",
              "    'id': 'S08',\n",
              "    'location': {'latitude': 1.3701, 'longitude': 103.8271},\n",
              "    'name': 'Upper Thomson Road'},\n",
              "   {'device_id': 'S116',\n",
              "    'id': 'S116',\n",
              "    'location': {'latitude': 1.281, 'longitude': 103.754},\n",
              "    'name': 'West Coast Highway'},\n",
              "   {'device_id': 'S104',\n",
              "    'id': 'S104',\n",
              "    'location': {'latitude': 1.44387, 'longitude': 103.78538},\n",
              "    'name': 'Woodlands Avenue 9'},\n",
              "   {'device_id': 'S100',\n",
              "    'id': 'S100',\n",
              "    'location': {'latitude': 1.4172, 'longitude': 103.74855},\n",
              "    'name': 'Woodlands Road'}]}}"
            ]
          },
          "metadata": {
            "tags": []
          },
          "execution_count": 29
        }
      ]
    },
    {
      "cell_type": "code",
      "metadata": {
        "colab": {
          "base_uri": "https://localhost:8080/"
        },
        "id": "B6lWLTIfH2Ly",
        "outputId": "616212c2-ccf5-48fb-b370-ab45ea8b8534"
      },
      "source": [
        "rain_info.keys()"
      ],
      "execution_count": 31,
      "outputs": [
        {
          "output_type": "execute_result",
          "data": {
            "text/plain": [
              "dict_keys(['metadata', 'items', 'api_info'])"
            ]
          },
          "metadata": {
            "tags": []
          },
          "execution_count": 31
        }
      ]
    },
    {
      "cell_type": "code",
      "metadata": {
        "colab": {
          "base_uri": "https://localhost:8080/"
        },
        "id": "uBkwIMV7H2Io",
        "outputId": "666e306e-7022-4902-fa31-f81df474e79a"
      },
      "source": [
        "type(rain_info['metadata']['stations'])"
      ],
      "execution_count": 34,
      "outputs": [
        {
          "output_type": "execute_result",
          "data": {
            "text/plain": [
              "list"
            ]
          },
          "metadata": {
            "tags": []
          },
          "execution_count": 34
        }
      ]
    },
    {
      "cell_type": "code",
      "metadata": {
        "colab": {
          "base_uri": "https://localhost:8080/"
        },
        "id": "gxs1Sen9H2EP",
        "outputId": "d1127ac5-bc8a-45d7-b9c6-9c20dca23996"
      },
      "source": [
        "print(rain_info['metadata']['stations'])"
      ],
      "execution_count": 35,
      "outputs": [
        {
          "output_type": "stream",
          "text": [
            "[{'id': 'S77', 'device_id': 'S77', 'name': 'Alexandra Road', 'location': {'latitude': 1.2937, 'longitude': 103.8125}}, {'id': 'S109', 'device_id': 'S109', 'name': 'Ang Mo Kio Avenue 5', 'location': {'latitude': 1.3764, 'longitude': 103.8492}}, {'id': 'S90', 'device_id': 'S90', 'name': 'Bukit Timah Road', 'location': {'latitude': 1.3191, 'longitude': 103.8191}}, {'id': 'S114', 'device_id': 'S114', 'name': 'Choa Chu Kang Avenue 4', 'location': {'latitude': 1.38, 'longitude': 103.73}}, {'id': 'S11', 'device_id': 'S11', 'name': 'Choa Chu Kang Road', 'location': {'latitude': 1.3746, 'longitude': 103.6938}}, {'id': 'S50', 'device_id': 'S50', 'name': 'Clementi Road', 'location': {'latitude': 1.3337, 'longitude': 103.7768}}, {'id': 'S107', 'device_id': 'S107', 'name': 'East Coast Parkway', 'location': {'latitude': 1.3135, 'longitude': 103.9625}}, {'id': 'S215', 'device_id': 'S215', 'name': 'GEYLANG EAST CENTRAL', 'location': {'latitude': 1.32785, 'longitude': 103.88899}}, {'id': 'S118', 'device_id': 'S118', 'name': 'Handy Road', 'location': {'latitude': 1.2994, 'longitude': 103.8461}}, {'id': 'S120', 'device_id': 'S120', 'name': 'Holland Road', 'location': {'latitude': 1.30874, 'longitude': 103.818}}, {'id': 'S33', 'device_id': 'S33', 'name': 'Jurong Pier Road', 'location': {'latitude': 1.3081, 'longitude': 103.71}}, {'id': 'S71', 'device_id': 'S71', 'name': 'Kent Ridge Road', 'location': {'latitude': 1.2923, 'longitude': 103.7815}}, {'id': 'S43', 'device_id': 'S43', 'name': 'Kim Chuan Road', 'location': {'latitude': 1.3399, 'longitude': 103.8878}}, {'id': 'S66', 'device_id': 'S66', 'name': 'Kranji Way', 'location': {'latitude': 1.4387, 'longitude': 103.7363}}, {'id': 'S112', 'device_id': 'S112', 'name': 'Lim Chu Kang Road', 'location': {'latitude': 1.43854, 'longitude': 103.70131}}, {'id': 'S40', 'device_id': 'S40', 'name': 'Mandai Lake Road', 'location': {'latitude': 1.4044, 'longitude': 103.78962}}, {'id': 'S108', 'device_id': 'S108', 'name': 'Marina Gardens Drive', 'location': {'latitude': 1.2799, 'longitude': 103.8703}}, {'id': 'S113', 'device_id': 'S113', 'name': 'Marine Parade Road', 'location': {'latitude': 1.30648, 'longitude': 103.9104}}, {'id': 'S44', 'device_id': 'S44', 'name': 'Nanyang Avenue', 'location': {'latitude': 1.34583, 'longitude': 103.68166}}, {'id': 'S119', 'device_id': 'S119', 'name': 'Nicoll Highway', 'location': {'latitude': 1.30105, 'longitude': 103.8666}}, {'id': 'S121', 'device_id': 'S121', 'name': 'Old Choa Chu Kang Road', 'location': {'latitude': 1.37288, 'longitude': 103.72244}}, {'id': 'S35', 'device_id': 'S35', 'name': 'Old Toh Tuck Road', 'location': {'latitude': 1.3329, 'longitude': 103.7556}}, {'id': 'S94', 'device_id': 'S94', 'name': 'Pasir Ris Street 51', 'location': {'latitude': 1.3662, 'longitude': 103.9528}}, {'id': 'S78', 'device_id': 'S78', 'name': 'Poole Road', 'location': {'latitude': 1.30703, 'longitude': 103.89067}}, {'id': 'S106', 'device_id': 'S106', 'name': 'Pulau Ubin', 'location': {'latitude': 1.4168, 'longitude': 103.9673}}, {'id': 'S81', 'device_id': 'S81', 'name': 'Punggol Central', 'location': {'latitude': 1.4029, 'longitude': 103.9092}}, {'id': 'S201', 'device_id': 'S201', 'name': 'S201', 'location': {'latitude': 1.32311, 'longitude': 103.76714}}, {'id': 'S202', 'device_id': 'S202', 'name': 'S202', 'location': {'latitude': 1.30968, 'longitude': 103.7578}}, {'id': 'S203', 'device_id': 'S203', 'name': 'S203', 'location': {'latitude': 1.29164, 'longitude': 103.7702}}, {'id': 'S204', 'device_id': 'S204', 'name': 'S204', 'location': {'latitude': 1.40081, 'longitude': 103.88217}}, {'id': 'S205', 'device_id': 'S205', 'name': 'S205', 'location': {'latitude': 1.38829, 'longitude': 103.9116}}, {'id': 'S207', 'device_id': 'S207', 'name': 'S207', 'location': {'latitude': 1.32485, 'longitude': 103.95836}}, {'id': 'S208', 'device_id': 'S208', 'name': 'S208', 'location': {'latitude': 1.3136, 'longitude': 104.00317}}, {'id': 'S209', 'device_id': 'S209', 'name': 'S209', 'location': {'latitude': 1.42111, 'longitude': 103.84472}}, {'id': 'S210', 'device_id': 'S210', 'name': 'S210', 'location': {'latitude': 1.44003, 'longitude': 103.76904}}, {'id': 'S211', 'device_id': 'S211', 'name': 'S211', 'location': {'latitude': 1.42918, 'longitude': 103.75711}}, {'id': 'S212', 'device_id': 'S212', 'name': 'S212', 'location': {'latitude': 1.31835, 'longitude': 103.93574}}, {'id': 'S213', 'device_id': 'S213', 'name': 'S213', 'location': {'latitude': 1.32427, 'longitude': 103.8097}}, {'id': 'S214', 'device_id': 'S214', 'name': 'S214', 'location': {'latitude': 1.29911, 'longitude': 103.88289}}, {'id': 'S216', 'device_id': 'S216', 'name': 'S216', 'location': {'latitude': 1.36019, 'longitude': 103.85335}}, {'id': 'S217', 'device_id': 'S217', 'name': 'S217', 'location': {'latitude': 1.35041, 'longitude': 103.85526}}, {'id': 'S218', 'device_id': 'S218', 'name': 'S218', 'location': {'latitude': 1.36491, 'longitude': 103.75065}}, {'id': 'S219', 'device_id': 'S219', 'name': 'S219', 'location': {'latitude': 1.37999, 'longitude': 103.87643}}, {'id': 'S220', 'device_id': 'S220', 'name': 'S220', 'location': {'latitude': 1.38666, 'longitude': 103.89797}}, {'id': 'S221', 'device_id': 'S221', 'name': 'S221', 'location': {'latitude': 1.35691, 'longitude': 103.89088}}, {'id': 'S222', 'device_id': 'S222', 'name': 'S222', 'location': {'latitude': 1.28987, 'longitude': 103.82364}}, {'id': 'S223', 'device_id': 'S223', 'name': 'S223', 'location': {'latitude': 1.29984, 'longitude': 103.80264}}, {'id': 'S224', 'device_id': 'S224', 'name': 'S224', 'location': {'latitude': 1.34392, 'longitude': 103.98409}}, {'id': 'S226', 'device_id': 'S226', 'name': 'S226', 'location': {'latitude': 1.27472, 'longitude': 103.80389}}, {'id': 'S227', 'device_id': 'S227', 'name': 'S227', 'location': {'latitude': 1.43944, 'longitude': 103.80389}}, {'id': 'S228', 'device_id': 'S228', 'name': 'S228', 'location': {'latitude': 1.34703, 'longitude': 103.70073}}, {'id': 'S229', 'device_id': 'S229', 'name': 'S229', 'location': {'latitude': 1.35167, 'longitude': 103.72195}}, {'id': 'S230', 'device_id': 'S230', 'name': 'S230', 'location': {'latitude': 1.30167, 'longitude': 103.76444}}, {'id': 'S900', 'device_id': 'S900', 'name': 'Seletar Aerospace View', 'location': {'latitude': 1.41284, 'longitude': 103.86922}}, {'id': 'S122', 'device_id': 'S122', 'name': 'Sembawang Road', 'location': {'latitude': 1.41731, 'longitude': 103.8249}}, {'id': 'S84', 'device_id': 'S84', 'name': 'Simei Avenue', 'location': {'latitude': 1.3437, 'longitude': 103.9444}}, {'id': 'S79', 'device_id': 'S79', 'name': 'Somerset Road', 'location': {'latitude': 1.3004, 'longitude': 103.8372}}, {'id': 'S88', 'device_id': 'S88', 'name': 'Toa Payoh North', 'location': {'latitude': 1.3427, 'longitude': 103.8482}}, {'id': 'S123', 'device_id': 'S123', 'name': 'Towner Road', 'location': {'latitude': 1.3214, 'longitude': 103.8577}}, {'id': 'S89', 'device_id': 'S89', 'name': 'Tuas Road', 'location': {'latitude': 1.31985, 'longitude': 103.66162}}, {'id': 'S115', 'device_id': 'S115', 'name': 'Tuas South Avenue 3', 'location': {'latitude': 1.29377, 'longitude': 103.61843}}, {'id': 'S82', 'device_id': 'S82', 'name': 'Tuas West Road', 'location': {'latitude': 1.3247, 'longitude': 103.6351}}, {'id': 'S24', 'device_id': 'S24', 'name': 'Upper Changi Road North', 'location': {'latitude': 1.3678, 'longitude': 103.9826}}, {'id': 'S69', 'device_id': 'S69', 'name': 'Upper Peirce Reservoir Park', 'location': {'latitude': 1.37, 'longitude': 103.805}}, {'id': 'S08', 'device_id': 'S08', 'name': 'Upper Thomson Road', 'location': {'latitude': 1.3701, 'longitude': 103.8271}}, {'id': 'S116', 'device_id': 'S116', 'name': 'West Coast Highway', 'location': {'latitude': 1.281, 'longitude': 103.754}}, {'id': 'S104', 'device_id': 'S104', 'name': 'Woodlands Avenue 9', 'location': {'latitude': 1.44387, 'longitude': 103.78538}}, {'id': 'S100', 'device_id': 'S100', 'name': 'Woodlands Road', 'location': {'latitude': 1.4172, 'longitude': 103.74855}}]\n"
          ],
          "name": "stdout"
        }
      ]
    },
    {
      "cell_type": "code",
      "metadata": {
        "colab": {
          "base_uri": "https://localhost:8080/"
        },
        "id": "Iu2MvvMkH2AX",
        "outputId": "2c20795f-6680-4c2b-cde6-087edb232700"
      },
      "source": [
        "for station in rain_info['metadata']['stations']:\n",
        "  print(station)"
      ],
      "execution_count": 37,
      "outputs": [
        {
          "output_type": "stream",
          "text": [
            "{'id': 'S77', 'device_id': 'S77', 'name': 'Alexandra Road', 'location': {'latitude': 1.2937, 'longitude': 103.8125}}\n",
            "{'id': 'S109', 'device_id': 'S109', 'name': 'Ang Mo Kio Avenue 5', 'location': {'latitude': 1.3764, 'longitude': 103.8492}}\n",
            "{'id': 'S90', 'device_id': 'S90', 'name': 'Bukit Timah Road', 'location': {'latitude': 1.3191, 'longitude': 103.8191}}\n",
            "{'id': 'S114', 'device_id': 'S114', 'name': 'Choa Chu Kang Avenue 4', 'location': {'latitude': 1.38, 'longitude': 103.73}}\n",
            "{'id': 'S11', 'device_id': 'S11', 'name': 'Choa Chu Kang Road', 'location': {'latitude': 1.3746, 'longitude': 103.6938}}\n",
            "{'id': 'S50', 'device_id': 'S50', 'name': 'Clementi Road', 'location': {'latitude': 1.3337, 'longitude': 103.7768}}\n",
            "{'id': 'S107', 'device_id': 'S107', 'name': 'East Coast Parkway', 'location': {'latitude': 1.3135, 'longitude': 103.9625}}\n",
            "{'id': 'S215', 'device_id': 'S215', 'name': 'GEYLANG EAST CENTRAL', 'location': {'latitude': 1.32785, 'longitude': 103.88899}}\n",
            "{'id': 'S118', 'device_id': 'S118', 'name': 'Handy Road', 'location': {'latitude': 1.2994, 'longitude': 103.8461}}\n",
            "{'id': 'S120', 'device_id': 'S120', 'name': 'Holland Road', 'location': {'latitude': 1.30874, 'longitude': 103.818}}\n",
            "{'id': 'S33', 'device_id': 'S33', 'name': 'Jurong Pier Road', 'location': {'latitude': 1.3081, 'longitude': 103.71}}\n",
            "{'id': 'S71', 'device_id': 'S71', 'name': 'Kent Ridge Road', 'location': {'latitude': 1.2923, 'longitude': 103.7815}}\n",
            "{'id': 'S43', 'device_id': 'S43', 'name': 'Kim Chuan Road', 'location': {'latitude': 1.3399, 'longitude': 103.8878}}\n",
            "{'id': 'S66', 'device_id': 'S66', 'name': 'Kranji Way', 'location': {'latitude': 1.4387, 'longitude': 103.7363}}\n",
            "{'id': 'S112', 'device_id': 'S112', 'name': 'Lim Chu Kang Road', 'location': {'latitude': 1.43854, 'longitude': 103.70131}}\n",
            "{'id': 'S40', 'device_id': 'S40', 'name': 'Mandai Lake Road', 'location': {'latitude': 1.4044, 'longitude': 103.78962}}\n",
            "{'id': 'S108', 'device_id': 'S108', 'name': 'Marina Gardens Drive', 'location': {'latitude': 1.2799, 'longitude': 103.8703}}\n",
            "{'id': 'S113', 'device_id': 'S113', 'name': 'Marine Parade Road', 'location': {'latitude': 1.30648, 'longitude': 103.9104}}\n",
            "{'id': 'S44', 'device_id': 'S44', 'name': 'Nanyang Avenue', 'location': {'latitude': 1.34583, 'longitude': 103.68166}}\n",
            "{'id': 'S119', 'device_id': 'S119', 'name': 'Nicoll Highway', 'location': {'latitude': 1.30105, 'longitude': 103.8666}}\n",
            "{'id': 'S121', 'device_id': 'S121', 'name': 'Old Choa Chu Kang Road', 'location': {'latitude': 1.37288, 'longitude': 103.72244}}\n",
            "{'id': 'S35', 'device_id': 'S35', 'name': 'Old Toh Tuck Road', 'location': {'latitude': 1.3329, 'longitude': 103.7556}}\n",
            "{'id': 'S94', 'device_id': 'S94', 'name': 'Pasir Ris Street 51', 'location': {'latitude': 1.3662, 'longitude': 103.9528}}\n",
            "{'id': 'S78', 'device_id': 'S78', 'name': 'Poole Road', 'location': {'latitude': 1.30703, 'longitude': 103.89067}}\n",
            "{'id': 'S106', 'device_id': 'S106', 'name': 'Pulau Ubin', 'location': {'latitude': 1.4168, 'longitude': 103.9673}}\n",
            "{'id': 'S81', 'device_id': 'S81', 'name': 'Punggol Central', 'location': {'latitude': 1.4029, 'longitude': 103.9092}}\n",
            "{'id': 'S201', 'device_id': 'S201', 'name': 'S201', 'location': {'latitude': 1.32311, 'longitude': 103.76714}}\n",
            "{'id': 'S202', 'device_id': 'S202', 'name': 'S202', 'location': {'latitude': 1.30968, 'longitude': 103.7578}}\n",
            "{'id': 'S203', 'device_id': 'S203', 'name': 'S203', 'location': {'latitude': 1.29164, 'longitude': 103.7702}}\n",
            "{'id': 'S204', 'device_id': 'S204', 'name': 'S204', 'location': {'latitude': 1.40081, 'longitude': 103.88217}}\n",
            "{'id': 'S205', 'device_id': 'S205', 'name': 'S205', 'location': {'latitude': 1.38829, 'longitude': 103.9116}}\n",
            "{'id': 'S207', 'device_id': 'S207', 'name': 'S207', 'location': {'latitude': 1.32485, 'longitude': 103.95836}}\n",
            "{'id': 'S208', 'device_id': 'S208', 'name': 'S208', 'location': {'latitude': 1.3136, 'longitude': 104.00317}}\n",
            "{'id': 'S209', 'device_id': 'S209', 'name': 'S209', 'location': {'latitude': 1.42111, 'longitude': 103.84472}}\n",
            "{'id': 'S210', 'device_id': 'S210', 'name': 'S210', 'location': {'latitude': 1.44003, 'longitude': 103.76904}}\n",
            "{'id': 'S211', 'device_id': 'S211', 'name': 'S211', 'location': {'latitude': 1.42918, 'longitude': 103.75711}}\n",
            "{'id': 'S212', 'device_id': 'S212', 'name': 'S212', 'location': {'latitude': 1.31835, 'longitude': 103.93574}}\n",
            "{'id': 'S213', 'device_id': 'S213', 'name': 'S213', 'location': {'latitude': 1.32427, 'longitude': 103.8097}}\n",
            "{'id': 'S214', 'device_id': 'S214', 'name': 'S214', 'location': {'latitude': 1.29911, 'longitude': 103.88289}}\n",
            "{'id': 'S216', 'device_id': 'S216', 'name': 'S216', 'location': {'latitude': 1.36019, 'longitude': 103.85335}}\n",
            "{'id': 'S217', 'device_id': 'S217', 'name': 'S217', 'location': {'latitude': 1.35041, 'longitude': 103.85526}}\n",
            "{'id': 'S218', 'device_id': 'S218', 'name': 'S218', 'location': {'latitude': 1.36491, 'longitude': 103.75065}}\n",
            "{'id': 'S219', 'device_id': 'S219', 'name': 'S219', 'location': {'latitude': 1.37999, 'longitude': 103.87643}}\n",
            "{'id': 'S220', 'device_id': 'S220', 'name': 'S220', 'location': {'latitude': 1.38666, 'longitude': 103.89797}}\n",
            "{'id': 'S221', 'device_id': 'S221', 'name': 'S221', 'location': {'latitude': 1.35691, 'longitude': 103.89088}}\n",
            "{'id': 'S222', 'device_id': 'S222', 'name': 'S222', 'location': {'latitude': 1.28987, 'longitude': 103.82364}}\n",
            "{'id': 'S223', 'device_id': 'S223', 'name': 'S223', 'location': {'latitude': 1.29984, 'longitude': 103.80264}}\n",
            "{'id': 'S224', 'device_id': 'S224', 'name': 'S224', 'location': {'latitude': 1.34392, 'longitude': 103.98409}}\n",
            "{'id': 'S226', 'device_id': 'S226', 'name': 'S226', 'location': {'latitude': 1.27472, 'longitude': 103.80389}}\n",
            "{'id': 'S227', 'device_id': 'S227', 'name': 'S227', 'location': {'latitude': 1.43944, 'longitude': 103.80389}}\n",
            "{'id': 'S228', 'device_id': 'S228', 'name': 'S228', 'location': {'latitude': 1.34703, 'longitude': 103.70073}}\n",
            "{'id': 'S229', 'device_id': 'S229', 'name': 'S229', 'location': {'latitude': 1.35167, 'longitude': 103.72195}}\n",
            "{'id': 'S230', 'device_id': 'S230', 'name': 'S230', 'location': {'latitude': 1.30167, 'longitude': 103.76444}}\n",
            "{'id': 'S900', 'device_id': 'S900', 'name': 'Seletar Aerospace View', 'location': {'latitude': 1.41284, 'longitude': 103.86922}}\n",
            "{'id': 'S122', 'device_id': 'S122', 'name': 'Sembawang Road', 'location': {'latitude': 1.41731, 'longitude': 103.8249}}\n",
            "{'id': 'S84', 'device_id': 'S84', 'name': 'Simei Avenue', 'location': {'latitude': 1.3437, 'longitude': 103.9444}}\n",
            "{'id': 'S79', 'device_id': 'S79', 'name': 'Somerset Road', 'location': {'latitude': 1.3004, 'longitude': 103.8372}}\n",
            "{'id': 'S88', 'device_id': 'S88', 'name': 'Toa Payoh North', 'location': {'latitude': 1.3427, 'longitude': 103.8482}}\n",
            "{'id': 'S123', 'device_id': 'S123', 'name': 'Towner Road', 'location': {'latitude': 1.3214, 'longitude': 103.8577}}\n",
            "{'id': 'S89', 'device_id': 'S89', 'name': 'Tuas Road', 'location': {'latitude': 1.31985, 'longitude': 103.66162}}\n",
            "{'id': 'S115', 'device_id': 'S115', 'name': 'Tuas South Avenue 3', 'location': {'latitude': 1.29377, 'longitude': 103.61843}}\n",
            "{'id': 'S82', 'device_id': 'S82', 'name': 'Tuas West Road', 'location': {'latitude': 1.3247, 'longitude': 103.6351}}\n",
            "{'id': 'S24', 'device_id': 'S24', 'name': 'Upper Changi Road North', 'location': {'latitude': 1.3678, 'longitude': 103.9826}}\n",
            "{'id': 'S69', 'device_id': 'S69', 'name': 'Upper Peirce Reservoir Park', 'location': {'latitude': 1.37, 'longitude': 103.805}}\n",
            "{'id': 'S08', 'device_id': 'S08', 'name': 'Upper Thomson Road', 'location': {'latitude': 1.3701, 'longitude': 103.8271}}\n",
            "{'id': 'S116', 'device_id': 'S116', 'name': 'West Coast Highway', 'location': {'latitude': 1.281, 'longitude': 103.754}}\n",
            "{'id': 'S104', 'device_id': 'S104', 'name': 'Woodlands Avenue 9', 'location': {'latitude': 1.44387, 'longitude': 103.78538}}\n",
            "{'id': 'S100', 'device_id': 'S100', 'name': 'Woodlands Road', 'location': {'latitude': 1.4172, 'longitude': 103.74855}}\n"
          ],
          "name": "stdout"
        }
      ]
    },
    {
      "cell_type": "code",
      "metadata": {
        "colab": {
          "base_uri": "https://localhost:8080/"
        },
        "id": "jUR-Dl3eH180",
        "outputId": "117ce620-48d2-4728-a605-6ca428f5b55e"
      },
      "source": [
        "type(station)"
      ],
      "execution_count": 38,
      "outputs": [
        {
          "output_type": "execute_result",
          "data": {
            "text/plain": [
              "dict"
            ]
          },
          "metadata": {
            "tags": []
          },
          "execution_count": 38
        }
      ]
    },
    {
      "cell_type": "code",
      "metadata": {
        "colab": {
          "base_uri": "https://localhost:8080/"
        },
        "id": "5lpZDmmrH15b",
        "outputId": "58767399-3ee3-47c2-a90d-d5c87e159e62"
      },
      "source": [
        "station.keys()"
      ],
      "execution_count": 40,
      "outputs": [
        {
          "output_type": "execute_result",
          "data": {
            "text/plain": [
              "dict_keys(['id', 'device_id', 'name', 'location'])"
            ]
          },
          "metadata": {
            "tags": []
          },
          "execution_count": 40
        }
      ]
    },
    {
      "cell_type": "code",
      "metadata": {
        "id": "aXAtzmAhH11S"
      },
      "source": [
        "#storing ids and station names into a list\n",
        "station_id=[]\n",
        "station_name=[]\n",
        "\n",
        "#function to access station id and names\n",
        "def stations():\n",
        "  for station in rain_info['metadata']['stations']:\n",
        "    station_id.append(station['id'])\n",
        "    station_name.append(station['name'])"
      ],
      "execution_count": 50,
      "outputs": []
    },
    {
      "cell_type": "code",
      "metadata": {
        "id": "OEFCMOQtH1xW"
      },
      "source": [
        "stations()"
      ],
      "execution_count": 51,
      "outputs": []
    },
    {
      "cell_type": "code",
      "metadata": {
        "colab": {
          "base_uri": "https://localhost:8080/"
        },
        "id": "3sv7eVQuH1te",
        "outputId": "0b73f15e-b737-4f97-93e2-8798466be998"
      },
      "source": [
        "station_id\n",
        "station_name"
      ],
      "execution_count": 53,
      "outputs": [
        {
          "output_type": "execute_result",
          "data": {
            "text/plain": [
              "['Alexandra Road',\n",
              " 'Ang Mo Kio Avenue 5',\n",
              " 'Bukit Timah Road',\n",
              " 'Choa Chu Kang Avenue 4',\n",
              " 'Choa Chu Kang Road',\n",
              " 'Clementi Road',\n",
              " 'East Coast Parkway',\n",
              " 'GEYLANG EAST CENTRAL',\n",
              " 'Handy Road',\n",
              " 'Holland Road',\n",
              " 'Jurong Pier Road',\n",
              " 'Kent Ridge Road',\n",
              " 'Kim Chuan Road',\n",
              " 'Kranji Way',\n",
              " 'Lim Chu Kang Road',\n",
              " 'Mandai Lake Road',\n",
              " 'Marina Gardens Drive',\n",
              " 'Marine Parade Road',\n",
              " 'Nanyang Avenue',\n",
              " 'Nicoll Highway',\n",
              " 'Old Choa Chu Kang Road',\n",
              " 'Old Toh Tuck Road',\n",
              " 'Pasir Ris Street 51',\n",
              " 'Poole Road',\n",
              " 'Pulau Ubin',\n",
              " 'Punggol Central',\n",
              " 'S201',\n",
              " 'S202',\n",
              " 'S203',\n",
              " 'S204',\n",
              " 'S205',\n",
              " 'S207',\n",
              " 'S208',\n",
              " 'S209',\n",
              " 'S210',\n",
              " 'S211',\n",
              " 'S212',\n",
              " 'S213',\n",
              " 'S214',\n",
              " 'S216',\n",
              " 'S217',\n",
              " 'S218',\n",
              " 'S219',\n",
              " 'S220',\n",
              " 'S221',\n",
              " 'S222',\n",
              " 'S223',\n",
              " 'S224',\n",
              " 'S226',\n",
              " 'S227',\n",
              " 'S228',\n",
              " 'S229',\n",
              " 'S230',\n",
              " 'Seletar Aerospace View',\n",
              " 'Sembawang Road',\n",
              " 'Simei Avenue',\n",
              " 'Somerset Road',\n",
              " 'Toa Payoh North',\n",
              " 'Towner Road',\n",
              " 'Tuas Road',\n",
              " 'Tuas South Avenue 3',\n",
              " 'Tuas West Road',\n",
              " 'Upper Changi Road North',\n",
              " 'Upper Peirce Reservoir Park',\n",
              " 'Upper Thomson Road',\n",
              " 'West Coast Highway',\n",
              " 'Woodlands Avenue 9',\n",
              " 'Woodlands Road']"
            ]
          },
          "metadata": {
            "tags": []
          },
          "execution_count": 53
        }
      ]
    },
    {
      "cell_type": "code",
      "metadata": {
        "id": "hoyfQdpIH1p-"
      },
      "source": [
        "# to get rainfall amount\n",
        "rainfall_amt=[]\n",
        "\n",
        "def rain_amount():\n",
        "\n",
        "  for value in rain_info['items']:\n",
        "    for v in value['readings']:\n",
        "      rainfall_amt.append(v['value'])\n"
      ],
      "execution_count": 65,
      "outputs": []
    },
    {
      "cell_type": "code",
      "metadata": {
        "colab": {
          "base_uri": "https://localhost:8080/"
        },
        "id": "sYZWbSk0cSiw",
        "outputId": "779d6549-de5d-4dce-a404-fb7c8f78d579"
      },
      "source": [
        "rain_amount()\n",
        "rainfall_amt"
      ],
      "execution_count": 66,
      "outputs": [
        {
          "output_type": "execute_result",
          "data": {
            "text/plain": [
              "[0,\n",
              " 0,\n",
              " 0,\n",
              " 0,\n",
              " 0,\n",
              " 0,\n",
              " 0,\n",
              " 0,\n",
              " 0,\n",
              " 0,\n",
              " 0,\n",
              " 0,\n",
              " 0,\n",
              " 0,\n",
              " 0,\n",
              " 0,\n",
              " 0,\n",
              " 0,\n",
              " 0,\n",
              " 0,\n",
              " 0,\n",
              " 0,\n",
              " 0,\n",
              " 0,\n",
              " 0,\n",
              " 0,\n",
              " 0,\n",
              " 0,\n",
              " 0,\n",
              " 0,\n",
              " 0,\n",
              " 0,\n",
              " 0,\n",
              " 0,\n",
              " 0,\n",
              " 0,\n",
              " 0,\n",
              " 0,\n",
              " 0,\n",
              " 0,\n",
              " 0,\n",
              " 0,\n",
              " 0,\n",
              " 0,\n",
              " 0,\n",
              " 0,\n",
              " 0,\n",
              " 0,\n",
              " 0,\n",
              " 0,\n",
              " 0,\n",
              " 0,\n",
              " 0,\n",
              " 0,\n",
              " 0,\n",
              " 0,\n",
              " 0,\n",
              " 0,\n",
              " 0,\n",
              " 0,\n",
              " 0,\n",
              " 0,\n",
              " 0,\n",
              " 0,\n",
              " 0,\n",
              " 0,\n",
              " 0,\n",
              " 0]"
            ]
          },
          "metadata": {
            "tags": []
          },
          "execution_count": 66
        }
      ]
    },
    {
      "cell_type": "code",
      "metadata": {
        "colab": {
          "base_uri": "https://localhost:8080/"
        },
        "id": "a1uqmA1MH1md",
        "outputId": "a7349bef-0983-4eb7-c9c2-34c506001f93"
      },
      "source": [
        "type(rain_info['items'])\n",
        "type(value)\n",
        "\n",
        "value['readings']"
      ],
      "execution_count": 62,
      "outputs": [
        {
          "output_type": "execute_result",
          "data": {
            "text/plain": [
              "[{'station_id': 'S77', 'value': 0},\n",
              " {'station_id': 'S109', 'value': 0},\n",
              " {'station_id': 'S90', 'value': 0},\n",
              " {'station_id': 'S114', 'value': 0},\n",
              " {'station_id': 'S11', 'value': 0},\n",
              " {'station_id': 'S50', 'value': 0},\n",
              " {'station_id': 'S107', 'value': 0},\n",
              " {'station_id': 'S215', 'value': 0},\n",
              " {'station_id': 'S118', 'value': 0},\n",
              " {'station_id': 'S120', 'value': 0},\n",
              " {'station_id': 'S33', 'value': 0},\n",
              " {'station_id': 'S71', 'value': 0},\n",
              " {'station_id': 'S43', 'value': 0},\n",
              " {'station_id': 'S66', 'value': 0},\n",
              " {'station_id': 'S112', 'value': 0},\n",
              " {'station_id': 'S40', 'value': 0},\n",
              " {'station_id': 'S108', 'value': 0},\n",
              " {'station_id': 'S113', 'value': 0},\n",
              " {'station_id': 'S44', 'value': 0},\n",
              " {'station_id': 'S119', 'value': 0},\n",
              " {'station_id': 'S121', 'value': 0},\n",
              " {'station_id': 'S35', 'value': 0},\n",
              " {'station_id': 'S94', 'value': 0},\n",
              " {'station_id': 'S78', 'value': 0},\n",
              " {'station_id': 'S106', 'value': 0},\n",
              " {'station_id': 'S81', 'value': 0},\n",
              " {'station_id': 'S201', 'value': 0},\n",
              " {'station_id': 'S202', 'value': 0},\n",
              " {'station_id': 'S203', 'value': 0},\n",
              " {'station_id': 'S204', 'value': 0},\n",
              " {'station_id': 'S205', 'value': 0},\n",
              " {'station_id': 'S207', 'value': 0},\n",
              " {'station_id': 'S208', 'value': 0},\n",
              " {'station_id': 'S209', 'value': 0},\n",
              " {'station_id': 'S210', 'value': 0},\n",
              " {'station_id': 'S211', 'value': 0},\n",
              " {'station_id': 'S212', 'value': 0},\n",
              " {'station_id': 'S213', 'value': 0},\n",
              " {'station_id': 'S214', 'value': 0},\n",
              " {'station_id': 'S216', 'value': 0},\n",
              " {'station_id': 'S217', 'value': 0},\n",
              " {'station_id': 'S218', 'value': 0},\n",
              " {'station_id': 'S219', 'value': 0},\n",
              " {'station_id': 'S220', 'value': 0},\n",
              " {'station_id': 'S221', 'value': 0},\n",
              " {'station_id': 'S222', 'value': 0},\n",
              " {'station_id': 'S223', 'value': 0},\n",
              " {'station_id': 'S224', 'value': 0},\n",
              " {'station_id': 'S226', 'value': 0},\n",
              " {'station_id': 'S227', 'value': 0},\n",
              " {'station_id': 'S228', 'value': 0},\n",
              " {'station_id': 'S229', 'value': 0},\n",
              " {'station_id': 'S230', 'value': 0},\n",
              " {'station_id': 'S900', 'value': 0},\n",
              " {'station_id': 'S122', 'value': 0},\n",
              " {'station_id': 'S84', 'value': 0},\n",
              " {'station_id': 'S79', 'value': 0},\n",
              " {'station_id': 'S88', 'value': 0},\n",
              " {'station_id': 'S123', 'value': 0},\n",
              " {'station_id': 'S89', 'value': 0},\n",
              " {'station_id': 'S115', 'value': 0},\n",
              " {'station_id': 'S82', 'value': 0},\n",
              " {'station_id': 'S24', 'value': 0},\n",
              " {'station_id': 'S69', 'value': 0},\n",
              " {'station_id': 'S08', 'value': 0},\n",
              " {'station_id': 'S116', 'value': 0},\n",
              " {'station_id': 'S104', 'value': 0},\n",
              " {'station_id': 'S100', 'value': 0}]"
            ]
          },
          "metadata": {
            "tags": []
          },
          "execution_count": 62
        }
      ]
    },
    {
      "cell_type": "code",
      "metadata": {
        "id": "RD4aqJyaH1i6"
      },
      "source": [
        "def rainfall_situation(rainfall):\n",
        "    if rainfall < 5:\n",
        "        return 'no rain'\n",
        "    elif 5 <= rainfall < 25:\n",
        "        return 'light rain'\n",
        "    elif 25 <= rainfall < 50:\n",
        "        return 'medium rain'\n",
        "    elif 51 <= rainfall < 75:\n",
        "        return 'heavy rain'\n",
        "    else:\n",
        "        return 'flooding imminent'"
      ],
      "execution_count": 68,
      "outputs": []
    },
    {
      "cell_type": "code",
      "metadata": {
        "colab": {
          "base_uri": "https://localhost:8080/"
        },
        "id": "W8MDGt6DH1fw",
        "outputId": "b58b868f-66a0-487b-8524-5bc215d36c2a"
      },
      "source": [
        "rf_situation=list(map(rainfall_situation,rainfall_amt))\n",
        "rf_situation"
      ],
      "execution_count": 69,
      "outputs": [
        {
          "output_type": "execute_result",
          "data": {
            "text/plain": [
              "['no rain',\n",
              " 'no rain',\n",
              " 'no rain',\n",
              " 'no rain',\n",
              " 'no rain',\n",
              " 'no rain',\n",
              " 'no rain',\n",
              " 'no rain',\n",
              " 'no rain',\n",
              " 'no rain',\n",
              " 'no rain',\n",
              " 'no rain',\n",
              " 'no rain',\n",
              " 'no rain',\n",
              " 'no rain',\n",
              " 'no rain',\n",
              " 'no rain',\n",
              " 'no rain',\n",
              " 'no rain',\n",
              " 'no rain',\n",
              " 'no rain',\n",
              " 'no rain',\n",
              " 'no rain',\n",
              " 'no rain',\n",
              " 'no rain',\n",
              " 'no rain',\n",
              " 'no rain',\n",
              " 'no rain',\n",
              " 'no rain',\n",
              " 'no rain',\n",
              " 'no rain',\n",
              " 'no rain',\n",
              " 'no rain',\n",
              " 'no rain',\n",
              " 'no rain',\n",
              " 'no rain',\n",
              " 'no rain',\n",
              " 'no rain',\n",
              " 'no rain',\n",
              " 'no rain',\n",
              " 'no rain',\n",
              " 'no rain',\n",
              " 'no rain',\n",
              " 'no rain',\n",
              " 'no rain',\n",
              " 'no rain',\n",
              " 'no rain',\n",
              " 'no rain',\n",
              " 'no rain',\n",
              " 'no rain',\n",
              " 'no rain',\n",
              " 'no rain',\n",
              " 'no rain',\n",
              " 'no rain',\n",
              " 'no rain',\n",
              " 'no rain',\n",
              " 'no rain',\n",
              " 'no rain',\n",
              " 'no rain',\n",
              " 'no rain',\n",
              " 'no rain',\n",
              " 'no rain',\n",
              " 'no rain',\n",
              " 'no rain',\n",
              " 'no rain',\n",
              " 'no rain',\n",
              " 'no rain',\n",
              " 'no rain']"
            ]
          },
          "metadata": {
            "tags": []
          },
          "execution_count": 69
        }
      ]
    },
    {
      "cell_type": "code",
      "metadata": {
        "id": "R9bqiDJmH1c0"
      },
      "source": [
        "\n",
        "#dictionary of station name and amount of rainfall\n",
        "station_rf_pair= list(zip(station_name,rf_situation))\n",
        "station_rf_pair\n",
        "\n",
        "new ={}\n",
        "\n",
        "for a,b in station_rf_pair:\n",
        "  new[a]=b\n",
        "\n"
      ],
      "execution_count": 72,
      "outputs": []
    },
    {
      "cell_type": "code",
      "metadata": {
        "colab": {
          "base_uri": "https://localhost:8080/"
        },
        "id": "DEe3yu-edsaU",
        "outputId": "1bc11c1e-7083-41e8-919f-cb38f24b3eb6"
      },
      "source": [
        "name_id_pair=list(zip(station_id,station_name))\n",
        "name_id_pair"
      ],
      "execution_count": 77,
      "outputs": [
        {
          "output_type": "execute_result",
          "data": {
            "text/plain": [
              "[('S77', 'Alexandra Road'),\n",
              " ('S109', 'Ang Mo Kio Avenue 5'),\n",
              " ('S90', 'Bukit Timah Road'),\n",
              " ('S114', 'Choa Chu Kang Avenue 4'),\n",
              " ('S11', 'Choa Chu Kang Road'),\n",
              " ('S50', 'Clementi Road'),\n",
              " ('S107', 'East Coast Parkway'),\n",
              " ('S215', 'GEYLANG EAST CENTRAL'),\n",
              " ('S118', 'Handy Road'),\n",
              " ('S120', 'Holland Road'),\n",
              " ('S33', 'Jurong Pier Road'),\n",
              " ('S71', 'Kent Ridge Road'),\n",
              " ('S43', 'Kim Chuan Road'),\n",
              " ('S66', 'Kranji Way'),\n",
              " ('S112', 'Lim Chu Kang Road'),\n",
              " ('S40', 'Mandai Lake Road'),\n",
              " ('S108', 'Marina Gardens Drive'),\n",
              " ('S113', 'Marine Parade Road'),\n",
              " ('S44', 'Nanyang Avenue'),\n",
              " ('S119', 'Nicoll Highway'),\n",
              " ('S121', 'Old Choa Chu Kang Road'),\n",
              " ('S35', 'Old Toh Tuck Road'),\n",
              " ('S94', 'Pasir Ris Street 51'),\n",
              " ('S78', 'Poole Road'),\n",
              " ('S106', 'Pulau Ubin'),\n",
              " ('S81', 'Punggol Central'),\n",
              " ('S201', 'S201'),\n",
              " ('S202', 'S202'),\n",
              " ('S203', 'S203'),\n",
              " ('S204', 'S204'),\n",
              " ('S205', 'S205'),\n",
              " ('S207', 'S207'),\n",
              " ('S208', 'S208'),\n",
              " ('S209', 'S209'),\n",
              " ('S210', 'S210'),\n",
              " ('S211', 'S211'),\n",
              " ('S212', 'S212'),\n",
              " ('S213', 'S213'),\n",
              " ('S214', 'S214'),\n",
              " ('S216', 'S216'),\n",
              " ('S217', 'S217'),\n",
              " ('S218', 'S218'),\n",
              " ('S219', 'S219'),\n",
              " ('S220', 'S220'),\n",
              " ('S221', 'S221'),\n",
              " ('S222', 'S222'),\n",
              " ('S223', 'S223'),\n",
              " ('S224', 'S224'),\n",
              " ('S226', 'S226'),\n",
              " ('S227', 'S227'),\n",
              " ('S228', 'S228'),\n",
              " ('S229', 'S229'),\n",
              " ('S230', 'S230'),\n",
              " ('S900', 'Seletar Aerospace View'),\n",
              " ('S122', 'Sembawang Road'),\n",
              " ('S84', 'Simei Avenue'),\n",
              " ('S79', 'Somerset Road'),\n",
              " ('S88', 'Toa Payoh North'),\n",
              " ('S123', 'Towner Road'),\n",
              " ('S89', 'Tuas Road'),\n",
              " ('S115', 'Tuas South Avenue 3'),\n",
              " ('S82', 'Tuas West Road'),\n",
              " ('S24', 'Upper Changi Road North'),\n",
              " ('S69', 'Upper Peirce Reservoir Park'),\n",
              " ('S08', 'Upper Thomson Road'),\n",
              " ('S116', 'West Coast Highway'),\n",
              " ('S104', 'Woodlands Avenue 9'),\n",
              " ('S100', 'Woodlands Road')]"
            ]
          },
          "metadata": {
            "tags": []
          },
          "execution_count": 77
        }
      ]
    },
    {
      "cell_type": "code",
      "metadata": {
        "id": "vLwUI7ugdsTZ"
      },
      "source": [
        "#dictionary of id and station name\n",
        "\n",
        "new2={}\n",
        "\n",
        "for c,d in name_id_pair:\n",
        "  new2[c]=d"
      ],
      "execution_count": 78,
      "outputs": []
    },
    {
      "cell_type": "code",
      "metadata": {
        "colab": {
          "base_uri": "https://localhost:8080/"
        },
        "id": "JWNBpOmOdsP2",
        "outputId": "0bfb390e-b88e-4638-e4cb-b9027777bdba"
      },
      "source": [
        "new2"
      ],
      "execution_count": 79,
      "outputs": [
        {
          "output_type": "execute_result",
          "data": {
            "text/plain": [
              "{'S08': 'Upper Thomson Road',\n",
              " 'S100': 'Woodlands Road',\n",
              " 'S104': 'Woodlands Avenue 9',\n",
              " 'S106': 'Pulau Ubin',\n",
              " 'S107': 'East Coast Parkway',\n",
              " 'S108': 'Marina Gardens Drive',\n",
              " 'S109': 'Ang Mo Kio Avenue 5',\n",
              " 'S11': 'Choa Chu Kang Road',\n",
              " 'S112': 'Lim Chu Kang Road',\n",
              " 'S113': 'Marine Parade Road',\n",
              " 'S114': 'Choa Chu Kang Avenue 4',\n",
              " 'S115': 'Tuas South Avenue 3',\n",
              " 'S116': 'West Coast Highway',\n",
              " 'S118': 'Handy Road',\n",
              " 'S119': 'Nicoll Highway',\n",
              " 'S120': 'Holland Road',\n",
              " 'S121': 'Old Choa Chu Kang Road',\n",
              " 'S122': 'Sembawang Road',\n",
              " 'S123': 'Towner Road',\n",
              " 'S201': 'S201',\n",
              " 'S202': 'S202',\n",
              " 'S203': 'S203',\n",
              " 'S204': 'S204',\n",
              " 'S205': 'S205',\n",
              " 'S207': 'S207',\n",
              " 'S208': 'S208',\n",
              " 'S209': 'S209',\n",
              " 'S210': 'S210',\n",
              " 'S211': 'S211',\n",
              " 'S212': 'S212',\n",
              " 'S213': 'S213',\n",
              " 'S214': 'S214',\n",
              " 'S215': 'GEYLANG EAST CENTRAL',\n",
              " 'S216': 'S216',\n",
              " 'S217': 'S217',\n",
              " 'S218': 'S218',\n",
              " 'S219': 'S219',\n",
              " 'S220': 'S220',\n",
              " 'S221': 'S221',\n",
              " 'S222': 'S222',\n",
              " 'S223': 'S223',\n",
              " 'S224': 'S224',\n",
              " 'S226': 'S226',\n",
              " 'S227': 'S227',\n",
              " 'S228': 'S228',\n",
              " 'S229': 'S229',\n",
              " 'S230': 'S230',\n",
              " 'S24': 'Upper Changi Road North',\n",
              " 'S33': 'Jurong Pier Road',\n",
              " 'S35': 'Old Toh Tuck Road',\n",
              " 'S40': 'Mandai Lake Road',\n",
              " 'S43': 'Kim Chuan Road',\n",
              " 'S44': 'Nanyang Avenue',\n",
              " 'S50': 'Clementi Road',\n",
              " 'S66': 'Kranji Way',\n",
              " 'S69': 'Upper Peirce Reservoir Park',\n",
              " 'S71': 'Kent Ridge Road',\n",
              " 'S77': 'Alexandra Road',\n",
              " 'S78': 'Poole Road',\n",
              " 'S79': 'Somerset Road',\n",
              " 'S81': 'Punggol Central',\n",
              " 'S82': 'Tuas West Road',\n",
              " 'S84': 'Simei Avenue',\n",
              " 'S88': 'Toa Payoh North',\n",
              " 'S89': 'Tuas Road',\n",
              " 'S90': 'Bukit Timah Road',\n",
              " 'S900': 'Seletar Aerospace View',\n",
              " 'S94': 'Pasir Ris Street 51'}"
            ]
          },
          "metadata": {
            "tags": []
          },
          "execution_count": 79
        }
      ]
    },
    {
      "cell_type": "code",
      "metadata": {
        "colab": {
          "base_uri": "https://localhost:8080/"
        },
        "id": "kFt3Zt0wdsJQ",
        "outputId": "e18e3911-289e-4d99-c7b6-e9559f360774"
      },
      "source": [
        "entry=input('Enter station id here: ')\n",
        "print(f'The station location is at {new2[entry]} and the rainfall situation is {new[new2[entry]]}')"
      ],
      "execution_count": 80,
      "outputs": [
        {
          "output_type": "stream",
          "text": [
            "Enter station id here: S94\n",
            "The station location is at Pasir Ris Street 51 and the rainfall situation is no rain\n"
          ],
          "name": "stdout"
        }
      ]
    },
    {
      "cell_type": "code",
      "metadata": {
        "id": "OfFUXOybdsFA"
      },
      "source": [
        ""
      ],
      "execution_count": null,
      "outputs": []
    }
  ]
}